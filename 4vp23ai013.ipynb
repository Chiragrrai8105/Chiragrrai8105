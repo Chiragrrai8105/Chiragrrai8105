{
 "cells": [
  {
   "cell_type": "markdown",
   "id": "c7b46bf9",
   "metadata": {},
   "source": [
    "# 1) jug problem"
   ]
  },
  {
   "cell_type": "code",
   "execution_count": 30,
   "id": "722a18ff",
   "metadata": {},
   "outputs": [
    {
     "name": "stdout",
     "output_type": "stream",
     "text": [
      "target reached\n",
      "operation (4, 2)\n",
      "operation (3, 3)\n",
      "operation (3, 0)\n",
      "operation (0, 3)\n",
      "operation (4, 3)\n",
      "operation (4, 0)\n"
     ]
    }
   ],
   "source": [
    "\n",
    "class waterjugproblem:\n",
    "    def __init__(self,jug1_capacity,jug2_capacity,target):\n",
    "        self.jug1_capacity=jug1_capacity\n",
    "        self.jug2_capacity=jug2_capacity\n",
    "        self.target=target\n",
    "        self.visited=set()\n",
    "    def dfs(self,jug1,jug2):\n",
    "        if(jug1,jug2)in self.visited:\n",
    "            return False\n",
    "        self.visited.add((jug1,jug2))\n",
    "        if jug1==self.target or jug2==self.target:\n",
    "            print(\"target reached\")\n",
    "            return True\n",
    "        operations=[\n",
    "            (self.jug1_capacity,jug2),\n",
    "            (jug1,self.jug2_capacity),\n",
    "            (0,jug2),\n",
    "            (jug1,0),\n",
    "            (min(jug1+jug2,self.jug1_capacity),jug2-(min(jug1+jug2,self.jug1_capacity)-jug1)),\n",
    "            (jug1-(min(jug1+jug2,self.jug2_capacity)-jug2),min(jug1+jug2,self.jug2_capacity))\n",
    "        ]\n",
    "        for operation in operations:\n",
    "            if self.dfs(*operation):\n",
    "                print(\"operation\",operation)\n",
    "                return True\n",
    "        return False\n",
    "def main():\n",
    "    jug1_capacity=4\n",
    "    jug2_capacity=3\n",
    "    target=2\n",
    "    water_jug_problem=waterjugproblem(jug1_capacity,jug2_capacity,target)\n",
    "    if not water_jug_problem.dfs(0,0):\n",
    "        print(\"Target cannot be reached!\")\n",
    "if __name__ ==\"__main__\":\n",
    "    main()"
   ]
  },
  {
   "cell_type": "markdown",
   "id": "173ad803",
   "metadata": {},
   "source": [
    "# 2) queen problem"
   ]
  },
  {
   "cell_type": "code",
   "execution_count": 14,
   "id": "4335eb17",
   "metadata": {},
   "outputs": [
    {
     "name": "stdout",
     "output_type": "stream",
     "text": [
      "Enter the number of queens\n",
      "4\n",
      "[0, 1, 0, 0]\n",
      "[0, 0, 0, 1]\n",
      "[1, 0, 0, 0]\n",
      "[0, 0, 1, 0]\n"
     ]
    }
   ],
   "source": [
    "print(\"Enter the number of queens\")\n",
    "N=int(input())\n",
    "board=[[0]*N for _ in range(N)]\n",
    "def is_safe(row,col):\n",
    "    for i in range(row):\n",
    "        if board[i][col]==1:\n",
    "            return False\n",
    "    for i,j in zip(range(row,-1,-1),range(col,-1,-1)):\n",
    "        if board[i][j]==1:\n",
    "            return False\n",
    "    for i,j in zip(range(row,-1,-1),range(col,N)):\n",
    "        if board[i][j]==1:\n",
    "            return False    \n",
    "    return True\n",
    "def solve(row):\n",
    "    if row>=N:\n",
    "        return True\n",
    "    for col in range(N):\n",
    "        if is_safe(row,col):\n",
    "            board[row][col]= 1\n",
    "            if solve(row+1):\n",
    "                return True\n",
    "            board[row][col]=0\n",
    "    return False        \n",
    "solve(0)\n",
    "for row in board:\n",
    "    print(row)"
   ]
  },
  {
   "cell_type": "markdown",
   "id": "3ff50047",
   "metadata": {},
   "source": [
    "### 3) Hamilton cycle"
   ]
  },
  {
   "cell_type": "code",
   "execution_count": 56,
   "id": "a731eb96",
   "metadata": {},
   "outputs": [],
   "source": [
    "from sys import maxsize\n",
    "from itertools import permutations \n",
    "v=4\n",
    "def tsp(graph,s):\n",
    "    vertex=[]\n",
    "    for i in range(v):\n",
    "        if i!=s:\n",
    "            vertex.append(i)\n",
    "    min_path=maxsize\n",
    "    next_permutation=permutations(vertex)\n",
    "    for i in next_permutation:\n",
    "        current_pathweight=0 \n",
    "        k=s\n",
    "        for j in i:\n",
    "            current_pathweight+=graph[k][j]\n",
    "            k=j\n",
    "        current_pathweight+=graph[k][s]\n",
    "        min_path=min(min_path,current_pathweight)        \n",
    "    return min_path\n",
    "if __name__ == \"__ main __\":\n",
    "    graph=[[0,10,15,20],[10,0,35,25],[15,35,0,30],[20,25,30,0]]\n",
    "    s=0\n",
    "    print(tsp(graph,s))"
   ]
  },
  {
   "cell_type": "markdown",
   "id": "67fc022c",
   "metadata": {},
   "source": [
    "### 4) "
   ]
  },
  {
   "cell_type": "code",
   "execution_count": 36,
   "id": "905dbc32",
   "metadata": {},
   "outputs": [
    {
     "name": "stdout",
     "output_type": "stream",
     "text": [
      "the final state is  ['fresh', 'clean', 'smelly', 'dirty', 'clean', 'smelly']\n"
     ]
    }
   ],
   "source": [
    "initial_state=['fresh']\n",
    "rules=[{'if':[\"clean\",\"smelly\"],\"then\":[\"fresh\"]},{'if':[\"dirty\"],\"then\":[\"clean\"]},]\n",
    "goal=[\"dirty\",\"smelly\"]\n",
    "current_state=initial_state\n",
    "while not all(x in current_state for x in goal):\n",
    "    if all(x in current_state for x in goal):\n",
    "        break\n",
    "    for rule in reversed(rules):\n",
    "        if all(x in current_state for x in rule[\"then\"]):\n",
    "            current_state+=rule[\"if\"]\n",
    "print(\"the final state is \",current_state)            "
   ]
  },
  {
   "cell_type": "code",
   "execution_count": 42,
   "id": "744cf8d5",
   "metadata": {},
   "outputs": [
    {
     "name": "stdout",
     "output_type": "stream",
     "text": [
      "the final state is  ['fresh', 'smelly', 'clean', 'smelly', 'dirty']\n"
     ]
    }
   ],
   "source": [
    "initial_state=['fresh','smelly']\n",
    "rules=[{'if':[\"dirty\"],\"then\":[\"clean\"]},{'if':[\"clean\",\"smelly\"],\"then\":[\"fresh\"]}]\n",
    "goal=[\"dirty\",\"smelly\"]\n",
    "current_state=initial_state\n",
    "while not all(x in current_state for x in goal):\n",
    "    if all(x in current_state for x in goal):\n",
    "        break\n",
    "    for rule in reversed(rules):\n",
    "        if all(x in current_state for x in rule[\"then\"]):\n",
    "            current_state+=rule[\"if\"]\n",
    "print(\"the final state is \",current_state)            "
   ]
  },
  {
   "cell_type": "markdown",
   "id": "ef082f24",
   "metadata": {},
   "source": [
    "## 5)"
   ]
  },
  {
   "cell_type": "code",
   "execution_count": 15,
   "id": "6ea78eb2",
   "metadata": {},
   "outputs": [
    {
     "name": "stdout",
     "output_type": "stream",
     "text": [
      "Path found:(path)\n"
     ]
    },
    {
     "data": {
      "text/plain": [
       "['A', 'B', 'F', 'Z']"
      ]
     },
     "execution_count": 15,
     "metadata": {},
     "output_type": "execute_result"
    }
   ],
   "source": [
    "def astarAlgo(start_node,stop_node):\n",
    "    open_set=set([start_node])\n",
    "    closed_set=set()\n",
    "    g={start_node:0}\n",
    "    parents={start_node:start_node}\n",
    "    while open_set:\n",
    "        n=None\n",
    "        for v in open_set:\n",
    "            if n is None or g[v]+heuristic(v)<g[n]+heuristic(n):\n",
    "                n=v\n",
    "        if n is None:\n",
    "            print(\"Path does not exist\")\n",
    "            return None\n",
    "        if n==stop_node:\n",
    "            path=[]\n",
    "            while parents[n]!=n:\n",
    "                path.append(n)\n",
    "                n=parents[n]\n",
    "            path.append(start_node)\n",
    "            path.reverse()\n",
    "            print(\"Path found:(path)\")\n",
    "            return path\n",
    "        open_set.remove(n)\n",
    "        closed_set.add(n)\n",
    "        for(m,weight) in get_neighbors(n):\n",
    "            if m in closed_set:\n",
    "                continue\n",
    "            tentative_g=g[n]+weight\n",
    "            if m not in open_set or tentative_g<g[n]:\n",
    "                g[m]=tentative_g\n",
    "                parents[m]=n\n",
    "                open_set.add(m)\n",
    "    print(\"path does not exist\")\n",
    "    return None \n",
    "def get_neighbors(v):\n",
    "    return Graph_nodes.get(v,[])\n",
    "def heuristic(n):\n",
    "    H_dist={'A':14,'B':12,'C':11,'D':6,'E':4,'F':11,'Z':0}\n",
    "    return H_dist[n]\n",
    "Graph_nodes={\n",
    "    'A':[('B',4),('C',3)],\n",
    "    'B':[('F',5),('E',12)],\n",
    "    'C':[('E',10),('D',7)],\n",
    "    'D':[('C',7),('E',2)],\n",
    "    'E':[('B',12),('E',5)],\n",
    "    'F':[('B',5),('Z',16)]\n",
    "} \n",
    "astarAlgo('A','Z')        "
   ]
  },
  {
   "cell_type": "code",
   "execution_count": null,
   "id": "0d82bd13",
   "metadata": {},
   "outputs": [],
   "source": []
  },
  {
   "cell_type": "code",
   "execution_count": null,
   "id": "2bf761b6",
   "metadata": {},
   "outputs": [],
   "source": []
  }
 ],
 "metadata": {
  "kernelspec": {
   "display_name": "Python 3 (ipykernel)",
   "language": "python",
   "name": "python3"
  },
  "language_info": {
   "codemirror_mode": {
    "name": "ipython",
    "version": 3
   },
   "file_extension": ".py",
   "mimetype": "text/x-python",
   "name": "python",
   "nbconvert_exporter": "python",
   "pygments_lexer": "ipython3",
   "version": "3.10.9"
  }
 },
 "nbformat": 4,
 "nbformat_minor": 5
}
